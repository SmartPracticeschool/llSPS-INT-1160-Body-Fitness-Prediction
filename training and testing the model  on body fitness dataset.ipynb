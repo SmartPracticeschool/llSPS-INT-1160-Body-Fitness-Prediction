{
 "cells": [
  {
   "cell_type": "code",
   "execution_count": 7,
   "metadata": {},
   "outputs": [
    {
     "data": {
      "text/plain": [
       "'C:\\\\Users\\\\SONY\\\\Desktop\\\\internship-3'"
      ]
     },
     "execution_count": 7,
     "metadata": {},
     "output_type": "execute_result"
    }
   ],
   "source": [
    "import os\n",
    "os.getcwd()\n"
   ]
  },
  {
   "cell_type": "code",
   "execution_count": 8,
   "metadata": {},
   "outputs": [
    {
     "data": {
      "text/plain": [
       "'C:\\\\Users\\\\SONY\\\\Desktop\\\\internship-3'"
      ]
     },
     "execution_count": 8,
     "metadata": {},
     "output_type": "execute_result"
    }
   ],
   "source": [
    "os.chdir(\"C:/Users/SONY/Desktop/internship-3\")\n",
    "os.getcwd()import numpy as np"
   ]
  },
  {
   "cell_type": "code",
   "execution_count": 9,
   "metadata": {},
   "outputs": [
    {
     "data": {
      "text/html": [
       "<div>\n",
       "<style scoped>\n",
       "    .dataframe tbody tr th:only-of-type {\n",
       "        vertical-align: middle;\n",
       "    }\n",
       "\n",
       "    .dataframe tbody tr th {\n",
       "        vertical-align: top;\n",
       "    }\n",
       "\n",
       "    .dataframe thead th {\n",
       "        text-align: right;\n",
       "    }\n",
       "</style>\n",
       "<table border=\"1\" class=\"dataframe\">\n",
       "  <thead>\n",
       "    <tr style=\"text-align: right;\">\n",
       "      <th></th>\n",
       "      <th>date</th>\n",
       "      <th>stepcount</th>\n",
       "      <th>caloriesburned</th>\n",
       "      <th>hoursofsleep</th>\n",
       "      <th>weight_kg</th>\n",
       "    </tr>\n",
       "  </thead>\n",
       "  <tbody>\n",
       "    <tr>\n",
       "      <th>0</th>\n",
       "      <td>10/6/2019</td>\n",
       "      <td>5464</td>\n",
       "      <td>181</td>\n",
       "      <td>5</td>\n",
       "      <td>66</td>\n",
       "    </tr>\n",
       "    <tr>\n",
       "      <th>1</th>\n",
       "      <td>10/7/2019</td>\n",
       "      <td>6041</td>\n",
       "      <td>197</td>\n",
       "      <td>8</td>\n",
       "      <td>66</td>\n",
       "    </tr>\n",
       "    <tr>\n",
       "      <th>2</th>\n",
       "      <td>10/8/2019</td>\n",
       "      <td>25</td>\n",
       "      <td>0</td>\n",
       "      <td>5</td>\n",
       "      <td>66</td>\n",
       "    </tr>\n",
       "    <tr>\n",
       "      <th>3</th>\n",
       "      <td>10/9/2019</td>\n",
       "      <td>5461</td>\n",
       "      <td>174</td>\n",
       "      <td>4</td>\n",
       "      <td>66</td>\n",
       "    </tr>\n",
       "    <tr>\n",
       "      <th>4</th>\n",
       "      <td>10/10/2019</td>\n",
       "      <td>6915</td>\n",
       "      <td>223</td>\n",
       "      <td>5</td>\n",
       "      <td>66</td>\n",
       "    </tr>\n",
       "    <tr>\n",
       "      <th>...</th>\n",
       "      <td>...</td>\n",
       "      <td>...</td>\n",
       "      <td>...</td>\n",
       "      <td>...</td>\n",
       "      <td>...</td>\n",
       "    </tr>\n",
       "    <tr>\n",
       "      <th>84</th>\n",
       "      <td>12/29/2019</td>\n",
       "      <td>3066</td>\n",
       "      <td>99</td>\n",
       "      <td>4</td>\n",
       "      <td>64</td>\n",
       "    </tr>\n",
       "    <tr>\n",
       "      <th>85</th>\n",
       "      <td>12/30/2019</td>\n",
       "      <td>177</td>\n",
       "      <td>5</td>\n",
       "      <td>5</td>\n",
       "      <td>64</td>\n",
       "    </tr>\n",
       "    <tr>\n",
       "      <th>86</th>\n",
       "      <td>12/31/2019</td>\n",
       "      <td>36</td>\n",
       "      <td>1</td>\n",
       "      <td>3</td>\n",
       "      <td>64</td>\n",
       "    </tr>\n",
       "    <tr>\n",
       "      <th>87</th>\n",
       "      <td>1/1/2020</td>\n",
       "      <td>299</td>\n",
       "      <td>10</td>\n",
       "      <td>3</td>\n",
       "      <td>64</td>\n",
       "    </tr>\n",
       "    <tr>\n",
       "      <th>88</th>\n",
       "      <td>1/2/2020</td>\n",
       "      <td>1447</td>\n",
       "      <td>47</td>\n",
       "      <td>3</td>\n",
       "      <td>64</td>\n",
       "    </tr>\n",
       "  </tbody>\n",
       "</table>\n",
       "<p>89 rows × 5 columns</p>\n",
       "</div>"
      ],
      "text/plain": [
       "          date  stepcount  caloriesburned  hoursofsleep  weight_kg\n",
       "0    10/6/2019       5464             181             5         66\n",
       "1    10/7/2019       6041             197             8         66\n",
       "2    10/8/2019         25               0             5         66\n",
       "3    10/9/2019       5461             174             4         66\n",
       "4   10/10/2019       6915             223             5         66\n",
       "..         ...        ...             ...           ...        ...\n",
       "84  12/29/2019       3066              99             4         64\n",
       "85  12/30/2019        177               5             5         64\n",
       "86  12/31/2019         36               1             3         64\n",
       "87    1/1/2020        299              10             3         64\n",
       "88    1/2/2020       1447              47             3         64\n",
       "\n",
       "[89 rows x 5 columns]"
      ]
     },
     "execution_count": 9,
     "metadata": {},
     "output_type": "execute_result"
    }
   ],
   "source": [
    "import numpy as np\n",
    "import pandas as pd\n",
    "data=pd.read_csv(\"bodyfitness.csv\")\n",
    "data"
   ]
  },
  {
   "cell_type": "code",
   "execution_count": 10,
   "metadata": {},
   "outputs": [
    {
     "data": {
      "text/plain": [
       "date              0\n",
       "stepcount         0\n",
       "caloriesburned    0\n",
       "hoursofsleep      0\n",
       "weight_kg         0\n",
       "dtype: int64"
      ]
     },
     "execution_count": 10,
     "metadata": {},
     "output_type": "execute_result"
    }
   ],
   "source": [
    "data.isnull().sum()"
   ]
  },
  {
   "cell_type": "code",
   "execution_count": 11,
   "metadata": {},
   "outputs": [],
   "source": [
    "X=data.iloc[:,:4].values"
   ]
  },
  {
   "cell_type": "code",
   "execution_count": 12,
   "metadata": {},
   "outputs": [
    {
     "data": {
      "text/plain": [
       "array([['10/6/2019', 5464, 181, 5],\n",
       "       ['10/7/2019', 6041, 197, 8],\n",
       "       ['10/8/2019', 25, 0, 5],\n",
       "       ['10/9/2019', 5461, 174, 4],\n",
       "       ['10/10/2019', 6915, 223, 5],\n",
       "       ['10/11/2019', 4545, 149, 6],\n",
       "       ['10/12/2019', 4340, 140, 6],\n",
       "       ['10/13/2019', 1230, 38, 7],\n",
       "       ['10/13/2019', 61, 1, 5],\n",
       "       ['10/15/2019', 1258, 40, 6],\n",
       "       ['10/16/2019', 3148, 101, 8],\n",
       "       ['10/17/2019', 4687, 152, 5],\n",
       "       ['10/18/2019', 4732, 150, 6],\n",
       "       ['10/19/2019', 3519, 113, 7],\n",
       "       ['10/20/2019', 1580, 49, 5],\n",
       "       ['10/21/2019', 2822, 86, 6],\n",
       "       ['10/22/2019', 181, 6, 8],\n",
       "       ['10/23/2019', 3158, 99, 5],\n",
       "       ['10/24/2019', 4383, 143, 4],\n",
       "       ['10/25/2019', 3881, 125, 5],\n",
       "       ['10/26/2019', 4037, 129, 6],\n",
       "       ['10/27/2019', 202, 6, 8],\n",
       "       ['10/28/2019', 292, 9, 5],\n",
       "       ['10/29/2019', 330, 10, 6],\n",
       "       ['10/30/2019', 2209, 72, 5],\n",
       "       ['10/31/2019', 4550, 150, 8],\n",
       "       ['11/1/2019', 4435, 141, 5],\n",
       "       ['11/2/2019', 4779, 156, 4],\n",
       "       ['11/3/2019', 1831, 57, 5],\n",
       "       ['11/4/2019', 2255, 72, 4],\n",
       "       ['11/5/2019', 539, 17, 5],\n",
       "       ['11/6/2019', 5464, 181, 4],\n",
       "       ['11/7/2019', 6041, 197, 3],\n",
       "       ['11/8/2019', 4068, 131, 2],\n",
       "       ['11/9/2019', 4683, 154, 9],\n",
       "       ['11/10/2019', 4033, 137, 5],\n",
       "       ['11/11/2019', 6314, 193, 6],\n",
       "       ['11/12/2019', 614, 19, 4],\n",
       "       ['11/13/2019', 3149, 101, 5],\n",
       "       ['11/14/2019', 4005, 139, 8],\n",
       "       ['11/15/2019', 4880, 164, 4],\n",
       "       ['11/16/2019', 4136, 137, 5],\n",
       "       ['11/17/2019', 705, 22, 6],\n",
       "       ['11/18/2019', 570, 17, 5],\n",
       "       ['11/19/2019', 269, 9, 6],\n",
       "       ['11/20/2019', 4275, 145, 5],\n",
       "       ['11/21/2019', 5999, 192, 6],\n",
       "       ['11/22/2019', 4421, 146, 5],\n",
       "       ['11/23/2017', 6930, 234, 6],\n",
       "       ['11/24/2019', 5195, 167, 5],\n",
       "       ['11/25/2019', 546, 16, 6],\n",
       "       ['11/26/2019', 493, 17, 7],\n",
       "       ['11/27/2019', 995, 32, 6],\n",
       "       ['11/28/2019', 1163, 35, 7],\n",
       "       ['11/29/2019', 6676, 220, 6],\n",
       "       ['11/30/2019', 3608, 116, 5],\n",
       "       ['12/1/2019', 774, 23, 6],\n",
       "       ['12/2/2019', 1421, 44, 7],\n",
       "       ['12/3/2019', 4064, 131, 8],\n",
       "       ['12/4/2019', 2725, 86, 8],\n",
       "       ['12/5/2019', 5934, 194, 7],\n",
       "       ['12/6/2019', 1867, 60, 8],\n",
       "       ['12/7/2019', 3721, 121, 5],\n",
       "       ['12/8/2019', 2374, 76, 4],\n",
       "       ['12/9/2019', 2909, 93, 3],\n",
       "       ['12/10/2019', 1648, 53, 3],\n",
       "       ['12/11/2019', 799, 25, 4],\n",
       "       ['12/12/2019', 7102, 227, 5],\n",
       "       ['12/13/2019', 3941, 125, 5],\n",
       "       ['12/14/2019', 7422, 243, 5],\n",
       "       ['12/15/2019', 437, 14, 3],\n",
       "       ['12/16/2019', 1231, 39, 4],\n",
       "       ['12/17/2019', 1696, 55, 4],\n",
       "       ['12/18/2019', 4921, 158, 5],\n",
       "       ['12/19/2019', 221, 7, 5],\n",
       "       ['12/20/2019', 6500, 213, 5],\n",
       "       ['12/21/2019', 3575, 116, 5],\n",
       "       ['12/22/2019', 4061, 129, 5],\n",
       "       ['12/23/2019', 651, 21, 5],\n",
       "       ['12/24/2019', 753, 28, 4],\n",
       "       ['12/25/2019', 518, 16, 3],\n",
       "       ['12/26/2019', 5537, 180, 4],\n",
       "       ['12/27/2019', 4108, 138, 5],\n",
       "       ['12/28/2019', 5376, 176, 5],\n",
       "       ['12/29/2019', 3066, 99, 4],\n",
       "       ['12/30/2019', 177, 5, 5],\n",
       "       ['12/31/2019', 36, 1, 3],\n",
       "       ['1/1/2020', 299, 10, 3],\n",
       "       ['1/2/2020', 1447, 47, 3]], dtype=object)"
      ]
     },
     "execution_count": 12,
     "metadata": {},
     "output_type": "execute_result"
    }
   ],
   "source": [
    "X"
   ]
  },
  {
   "cell_type": "code",
   "execution_count": 13,
   "metadata": {},
   "outputs": [
    {
     "data": {
      "text/plain": [
       "array([66, 66, 66, 66, 66, 66, 66, 66, 66, 65, 65, 65, 65, 65, 65, 65, 65,\n",
       "       65, 64, 64, 64, 64, 64, 64, 64, 64, 64, 64, 64, 64, 64, 64, 64, 64,\n",
       "       64, 64, 64, 64, 64, 64, 64, 64, 64, 64, 64, 64, 64, 64, 64, 64, 64,\n",
       "       64, 64, 64, 64, 64, 64, 64, 64, 64, 64, 64, 64, 64, 64, 64, 64, 64,\n",
       "       64, 64, 64, 64, 64, 64, 64, 64, 64, 64, 64, 64, 64, 64, 64, 64, 64,\n",
       "       64, 64, 64, 64], dtype=int64)"
      ]
     },
     "execution_count": 13,
     "metadata": {},
     "output_type": "execute_result"
    }
   ],
   "source": [
    "y=data.iloc[:,-1].values\n",
    "y"
   ]
  },
  {
   "cell_type": "code",
   "execution_count": 14,
   "metadata": {},
   "outputs": [
    {
     "data": {
      "text/plain": [
       "array([5, 8, 5, 4, 5, 6, 6, 7, 5, 6, 8, 5, 6, 7, 5, 6, 8, 5, 4, 5, 6, 8,\n",
       "       5, 6, 5, 8, 5, 4, 5, 4, 5, 4, 3, 2, 9, 5, 6, 4, 5, 8, 4, 5, 6, 5,\n",
       "       6, 5, 6, 5, 6, 5, 6, 7, 6, 7, 6, 5, 6, 7, 8, 8, 7, 8, 5, 4, 3, 3,\n",
       "       4, 5, 5, 5, 3, 4, 4, 5, 5, 5, 5, 5, 5, 4, 3, 4, 5, 5, 4, 5, 3, 3,\n",
       "       3], dtype=object)"
      ]
     },
     "execution_count": 14,
     "metadata": {},
     "output_type": "execute_result"
    }
   ],
   "source": [
    "from sklearn.preprocessing import LabelEncoder\n",
    "lb1=LabelEncoder()\n",
    "X[:,-1]"
   ]
  },
  {
   "cell_type": "code",
   "execution_count": 15,
   "metadata": {},
   "outputs": [],
   "source": [
    "X[:,-1]=lb1.fit_transform(X[:,-1])"
   ]
  },
  {
   "cell_type": "code",
   "execution_count": 16,
   "metadata": {},
   "outputs": [
    {
     "data": {
      "text/plain": [
       "array([['10/6/2019', 5464, 181, 3],\n",
       "       ['10/7/2019', 6041, 197, 6],\n",
       "       ['10/8/2019', 25, 0, 3],\n",
       "       ['10/9/2019', 5461, 174, 2],\n",
       "       ['10/10/2019', 6915, 223, 3],\n",
       "       ['10/11/2019', 4545, 149, 4],\n",
       "       ['10/12/2019', 4340, 140, 4],\n",
       "       ['10/13/2019', 1230, 38, 5],\n",
       "       ['10/13/2019', 61, 1, 3],\n",
       "       ['10/15/2019', 1258, 40, 4],\n",
       "       ['10/16/2019', 3148, 101, 6],\n",
       "       ['10/17/2019', 4687, 152, 3],\n",
       "       ['10/18/2019', 4732, 150, 4],\n",
       "       ['10/19/2019', 3519, 113, 5],\n",
       "       ['10/20/2019', 1580, 49, 3],\n",
       "       ['10/21/2019', 2822, 86, 4],\n",
       "       ['10/22/2019', 181, 6, 6],\n",
       "       ['10/23/2019', 3158, 99, 3],\n",
       "       ['10/24/2019', 4383, 143, 2],\n",
       "       ['10/25/2019', 3881, 125, 3],\n",
       "       ['10/26/2019', 4037, 129, 4],\n",
       "       ['10/27/2019', 202, 6, 6],\n",
       "       ['10/28/2019', 292, 9, 3],\n",
       "       ['10/29/2019', 330, 10, 4],\n",
       "       ['10/30/2019', 2209, 72, 3],\n",
       "       ['10/31/2019', 4550, 150, 6],\n",
       "       ['11/1/2019', 4435, 141, 3],\n",
       "       ['11/2/2019', 4779, 156, 2],\n",
       "       ['11/3/2019', 1831, 57, 3],\n",
       "       ['11/4/2019', 2255, 72, 2],\n",
       "       ['11/5/2019', 539, 17, 3],\n",
       "       ['11/6/2019', 5464, 181, 2],\n",
       "       ['11/7/2019', 6041, 197, 1],\n",
       "       ['11/8/2019', 4068, 131, 0],\n",
       "       ['11/9/2019', 4683, 154, 7],\n",
       "       ['11/10/2019', 4033, 137, 3],\n",
       "       ['11/11/2019', 6314, 193, 4],\n",
       "       ['11/12/2019', 614, 19, 2],\n",
       "       ['11/13/2019', 3149, 101, 3],\n",
       "       ['11/14/2019', 4005, 139, 6],\n",
       "       ['11/15/2019', 4880, 164, 2],\n",
       "       ['11/16/2019', 4136, 137, 3],\n",
       "       ['11/17/2019', 705, 22, 4],\n",
       "       ['11/18/2019', 570, 17, 3],\n",
       "       ['11/19/2019', 269, 9, 4],\n",
       "       ['11/20/2019', 4275, 145, 3],\n",
       "       ['11/21/2019', 5999, 192, 4],\n",
       "       ['11/22/2019', 4421, 146, 3],\n",
       "       ['11/23/2017', 6930, 234, 4],\n",
       "       ['11/24/2019', 5195, 167, 3],\n",
       "       ['11/25/2019', 546, 16, 4],\n",
       "       ['11/26/2019', 493, 17, 5],\n",
       "       ['11/27/2019', 995, 32, 4],\n",
       "       ['11/28/2019', 1163, 35, 5],\n",
       "       ['11/29/2019', 6676, 220, 4],\n",
       "       ['11/30/2019', 3608, 116, 3],\n",
       "       ['12/1/2019', 774, 23, 4],\n",
       "       ['12/2/2019', 1421, 44, 5],\n",
       "       ['12/3/2019', 4064, 131, 6],\n",
       "       ['12/4/2019', 2725, 86, 6],\n",
       "       ['12/5/2019', 5934, 194, 5],\n",
       "       ['12/6/2019', 1867, 60, 6],\n",
       "       ['12/7/2019', 3721, 121, 3],\n",
       "       ['12/8/2019', 2374, 76, 2],\n",
       "       ['12/9/2019', 2909, 93, 1],\n",
       "       ['12/10/2019', 1648, 53, 1],\n",
       "       ['12/11/2019', 799, 25, 2],\n",
       "       ['12/12/2019', 7102, 227, 3],\n",
       "       ['12/13/2019', 3941, 125, 3],\n",
       "       ['12/14/2019', 7422, 243, 3],\n",
       "       ['12/15/2019', 437, 14, 1],\n",
       "       ['12/16/2019', 1231, 39, 2],\n",
       "       ['12/17/2019', 1696, 55, 2],\n",
       "       ['12/18/2019', 4921, 158, 3],\n",
       "       ['12/19/2019', 221, 7, 3],\n",
       "       ['12/20/2019', 6500, 213, 3],\n",
       "       ['12/21/2019', 3575, 116, 3],\n",
       "       ['12/22/2019', 4061, 129, 3],\n",
       "       ['12/23/2019', 651, 21, 3],\n",
       "       ['12/24/2019', 753, 28, 2],\n",
       "       ['12/25/2019', 518, 16, 1],\n",
       "       ['12/26/2019', 5537, 180, 2],\n",
       "       ['12/27/2019', 4108, 138, 3],\n",
       "       ['12/28/2019', 5376, 176, 3],\n",
       "       ['12/29/2019', 3066, 99, 2],\n",
       "       ['12/30/2019', 177, 5, 3],\n",
       "       ['12/31/2019', 36, 1, 1],\n",
       "       ['1/1/2020', 299, 10, 1],\n",
       "       ['1/2/2020', 1447, 47, 1]], dtype=object)"
      ]
     },
     "execution_count": 16,
     "metadata": {},
     "output_type": "execute_result"
    }
   ],
   "source": [
    "X"
   ]
  },
  {
   "cell_type": "code",
   "execution_count": 17,
   "metadata": {},
   "outputs": [],
   "source": [
    "#onehotencoding"
   ]
  },
  {
   "cell_type": "code",
   "execution_count": 18,
   "metadata": {},
   "outputs": [
    {
     "data": {
      "text/plain": [
       "array([[0., 0., 0., 1., 0., 0., 0., 0.],\n",
       "       [0., 0., 0., 0., 0., 0., 1., 0.],\n",
       "       [0., 0., 0., 1., 0., 0., 0., 0.],\n",
       "       [0., 0., 1., 0., 0., 0., 0., 0.],\n",
       "       [0., 0., 0., 1., 0., 0., 0., 0.],\n",
       "       [0., 0., 0., 0., 1., 0., 0., 0.],\n",
       "       [0., 0., 0., 0., 1., 0., 0., 0.],\n",
       "       [0., 0., 0., 0., 0., 1., 0., 0.],\n",
       "       [0., 0., 0., 1., 0., 0., 0., 0.],\n",
       "       [0., 0., 0., 0., 1., 0., 0., 0.],\n",
       "       [0., 0., 0., 0., 0., 0., 1., 0.],\n",
       "       [0., 0., 0., 1., 0., 0., 0., 0.],\n",
       "       [0., 0., 0., 0., 1., 0., 0., 0.],\n",
       "       [0., 0., 0., 0., 0., 1., 0., 0.],\n",
       "       [0., 0., 0., 1., 0., 0., 0., 0.],\n",
       "       [0., 0., 0., 0., 1., 0., 0., 0.],\n",
       "       [0., 0., 0., 0., 0., 0., 1., 0.],\n",
       "       [0., 0., 0., 1., 0., 0., 0., 0.],\n",
       "       [0., 0., 1., 0., 0., 0., 0., 0.],\n",
       "       [0., 0., 0., 1., 0., 0., 0., 0.],\n",
       "       [0., 0., 0., 0., 1., 0., 0., 0.],\n",
       "       [0., 0., 0., 0., 0., 0., 1., 0.],\n",
       "       [0., 0., 0., 1., 0., 0., 0., 0.],\n",
       "       [0., 0., 0., 0., 1., 0., 0., 0.],\n",
       "       [0., 0., 0., 1., 0., 0., 0., 0.],\n",
       "       [0., 0., 0., 0., 0., 0., 1., 0.],\n",
       "       [0., 0., 0., 1., 0., 0., 0., 0.],\n",
       "       [0., 0., 1., 0., 0., 0., 0., 0.],\n",
       "       [0., 0., 0., 1., 0., 0., 0., 0.],\n",
       "       [0., 0., 1., 0., 0., 0., 0., 0.],\n",
       "       [0., 0., 0., 1., 0., 0., 0., 0.],\n",
       "       [0., 0., 1., 0., 0., 0., 0., 0.],\n",
       "       [0., 1., 0., 0., 0., 0., 0., 0.],\n",
       "       [1., 0., 0., 0., 0., 0., 0., 0.],\n",
       "       [0., 0., 0., 0., 0., 0., 0., 1.],\n",
       "       [0., 0., 0., 1., 0., 0., 0., 0.],\n",
       "       [0., 0., 0., 0., 1., 0., 0., 0.],\n",
       "       [0., 0., 1., 0., 0., 0., 0., 0.],\n",
       "       [0., 0., 0., 1., 0., 0., 0., 0.],\n",
       "       [0., 0., 0., 0., 0., 0., 1., 0.],\n",
       "       [0., 0., 1., 0., 0., 0., 0., 0.],\n",
       "       [0., 0., 0., 1., 0., 0., 0., 0.],\n",
       "       [0., 0., 0., 0., 1., 0., 0., 0.],\n",
       "       [0., 0., 0., 1., 0., 0., 0., 0.],\n",
       "       [0., 0., 0., 0., 1., 0., 0., 0.],\n",
       "       [0., 0., 0., 1., 0., 0., 0., 0.],\n",
       "       [0., 0., 0., 0., 1., 0., 0., 0.],\n",
       "       [0., 0., 0., 1., 0., 0., 0., 0.],\n",
       "       [0., 0., 0., 0., 1., 0., 0., 0.],\n",
       "       [0., 0., 0., 1., 0., 0., 0., 0.],\n",
       "       [0., 0., 0., 0., 1., 0., 0., 0.],\n",
       "       [0., 0., 0., 0., 0., 1., 0., 0.],\n",
       "       [0., 0., 0., 0., 1., 0., 0., 0.],\n",
       "       [0., 0., 0., 0., 0., 1., 0., 0.],\n",
       "       [0., 0., 0., 0., 1., 0., 0., 0.],\n",
       "       [0., 0., 0., 1., 0., 0., 0., 0.],\n",
       "       [0., 0., 0., 0., 1., 0., 0., 0.],\n",
       "       [0., 0., 0., 0., 0., 1., 0., 0.],\n",
       "       [0., 0., 0., 0., 0., 0., 1., 0.],\n",
       "       [0., 0., 0., 0., 0., 0., 1., 0.],\n",
       "       [0., 0., 0., 0., 0., 1., 0., 0.],\n",
       "       [0., 0., 0., 0., 0., 0., 1., 0.],\n",
       "       [0., 0., 0., 1., 0., 0., 0., 0.],\n",
       "       [0., 0., 1., 0., 0., 0., 0., 0.],\n",
       "       [0., 1., 0., 0., 0., 0., 0., 0.],\n",
       "       [0., 1., 0., 0., 0., 0., 0., 0.],\n",
       "       [0., 0., 1., 0., 0., 0., 0., 0.],\n",
       "       [0., 0., 0., 1., 0., 0., 0., 0.],\n",
       "       [0., 0., 0., 1., 0., 0., 0., 0.],\n",
       "       [0., 0., 0., 1., 0., 0., 0., 0.],\n",
       "       [0., 1., 0., 0., 0., 0., 0., 0.],\n",
       "       [0., 0., 1., 0., 0., 0., 0., 0.],\n",
       "       [0., 0., 1., 0., 0., 0., 0., 0.],\n",
       "       [0., 0., 0., 1., 0., 0., 0., 0.],\n",
       "       [0., 0., 0., 1., 0., 0., 0., 0.],\n",
       "       [0., 0., 0., 1., 0., 0., 0., 0.],\n",
       "       [0., 0., 0., 1., 0., 0., 0., 0.],\n",
       "       [0., 0., 0., 1., 0., 0., 0., 0.],\n",
       "       [0., 0., 0., 1., 0., 0., 0., 0.],\n",
       "       [0., 0., 1., 0., 0., 0., 0., 0.],\n",
       "       [0., 1., 0., 0., 0., 0., 0., 0.],\n",
       "       [0., 0., 1., 0., 0., 0., 0., 0.],\n",
       "       [0., 0., 0., 1., 0., 0., 0., 0.],\n",
       "       [0., 0., 0., 1., 0., 0., 0., 0.],\n",
       "       [0., 0., 1., 0., 0., 0., 0., 0.],\n",
       "       [0., 0., 0., 1., 0., 0., 0., 0.],\n",
       "       [0., 1., 0., 0., 0., 0., 0., 0.],\n",
       "       [0., 1., 0., 0., 0., 0., 0., 0.],\n",
       "       [0., 1., 0., 0., 0., 0., 0., 0.]])"
      ]
     },
     "execution_count": 18,
     "metadata": {},
     "output_type": "execute_result"
    }
   ],
   "source": [
    "from sklearn.preprocessing import OneHotEncoder\n",
    "oh=OneHotEncoder()\n",
    "x1=X[:,3].reshape((-1,1))\n",
    "z=oh.fit_transform(x1).toarray()\n",
    "z"
   ]
  },
  {
   "cell_type": "code",
   "execution_count": 19,
   "metadata": {},
   "outputs": [],
   "source": [
    "#spliting the data into traning and testing"
   ]
  },
  {
   "cell_type": "code",
   "execution_count": 20,
   "metadata": {},
   "outputs": [],
   "source": [
    "X=data['stepcount']\n",
    "y=data['caloriesburned']"
   ]
  },
  {
   "cell_type": "code",
   "execution_count": 21,
   "metadata": {},
   "outputs": [
    {
     "data": {
      "text/plain": [
       "0     5464\n",
       "1     6041\n",
       "2       25\n",
       "3     5461\n",
       "4     6915\n",
       "      ... \n",
       "84    3066\n",
       "85     177\n",
       "86      36\n",
       "87     299\n",
       "88    1447\n",
       "Name: stepcount, Length: 89, dtype: int64"
      ]
     },
     "execution_count": 21,
     "metadata": {},
     "output_type": "execute_result"
    }
   ],
   "source": [
    "X"
   ]
  },
  {
   "cell_type": "code",
   "execution_count": 22,
   "metadata": {},
   "outputs": [
    {
     "data": {
      "text/plain": [
       "0     181\n",
       "1     197\n",
       "2       0\n",
       "3     174\n",
       "4     223\n",
       "     ... \n",
       "84     99\n",
       "85      5\n",
       "86      1\n",
       "87     10\n",
       "88     47\n",
       "Name: caloriesburned, Length: 89, dtype: int64"
      ]
     },
     "execution_count": 22,
     "metadata": {},
     "output_type": "execute_result"
    }
   ],
   "source": [
    "y"
   ]
  },
  {
   "cell_type": "code",
   "execution_count": 23,
   "metadata": {},
   "outputs": [],
   "source": [
    "from sklearn.model_selection import train_test_split  #train_test_split splits arrays or matrices into random train and test subsets. \n",
    "X_train, X_test, y_train, y_test = train_test_split(X, y,test_size=0.4,random_state =1)"
   ]
  },
  {
   "cell_type": "code",
   "execution_count": 24,
   "metadata": {},
   "outputs": [
    {
     "data": {
      "text/plain": [
       "58    4064\n",
       "15    2822\n",
       "86      36\n",
       "80     518\n",
       "26    4435\n",
       "87     299\n",
       "55    3608\n",
       "4     6915\n",
       "52     995\n",
       "21     202\n",
       "78     651\n",
       "3     5461\n",
       "81    5537\n",
       "30     539\n",
       "56     774\n",
       "42     705\n",
       "47    4421\n",
       "51     493\n",
       "66     799\n",
       "24    2209\n",
       "8       61\n",
       "17    3158\n",
       "0     5464\n",
       "82    4108\n",
       "57    1421\n",
       "22     292\n",
       "61    1867\n",
       "63    2374\n",
       "7     1230\n",
       "85     177\n",
       "13    3519\n",
       "74     221\n",
       "14    1580\n",
       "29    2255\n",
       "28    1831\n",
       "11    4687\n",
       "18    4383\n",
       "20    4037\n",
       "50     546\n",
       "25    4550\n",
       "6     4340\n",
       "71    1231\n",
       "76    3575\n",
       "1     6041\n",
       "16     181\n",
       "64    2909\n",
       "79     753\n",
       "5     4545\n",
       "75    6500\n",
       "9     1258\n",
       "72    1696\n",
       "12    4732\n",
       "37     614\n",
       "Name: stepcount, dtype: int64"
      ]
     },
     "execution_count": 24,
     "metadata": {},
     "output_type": "execute_result"
    }
   ],
   "source": [
    "X_train"
   ]
  },
  {
   "cell_type": "code",
   "execution_count": 25,
   "metadata": {},
   "outputs": [
    {
     "data": {
      "text/plain": [
       "58    131\n",
       "15     86\n",
       "86      1\n",
       "80     16\n",
       "26    141\n",
       "87     10\n",
       "55    116\n",
       "4     223\n",
       "52     32\n",
       "21      6\n",
       "78     21\n",
       "3     174\n",
       "81    180\n",
       "30     17\n",
       "56     23\n",
       "42     22\n",
       "47    146\n",
       "51     17\n",
       "66     25\n",
       "24     72\n",
       "8       1\n",
       "17     99\n",
       "0     181\n",
       "82    138\n",
       "57     44\n",
       "22      9\n",
       "61     60\n",
       "63     76\n",
       "7      38\n",
       "85      5\n",
       "13    113\n",
       "74      7\n",
       "14     49\n",
       "29     72\n",
       "28     57\n",
       "11    152\n",
       "18    143\n",
       "20    129\n",
       "50     16\n",
       "25    150\n",
       "6     140\n",
       "71     39\n",
       "76    116\n",
       "1     197\n",
       "16      6\n",
       "64     93\n",
       "79     28\n",
       "5     149\n",
       "75    213\n",
       "9      40\n",
       "72     55\n",
       "12    150\n",
       "37     19\n",
       "Name: caloriesburned, dtype: int64"
      ]
     },
     "execution_count": 25,
     "metadata": {},
     "output_type": "execute_result"
    }
   ],
   "source": [
    "y_train"
   ]
  },
  {
   "cell_type": "code",
   "execution_count": 26,
   "metadata": {},
   "outputs": [],
   "source": [
    "X_train = X_train.values.reshape((-1,1))"
   ]
  },
  {
   "cell_type": "code",
   "execution_count": 27,
   "metadata": {},
   "outputs": [
    {
     "data": {
      "text/plain": [
       "array([[4064],\n",
       "       [2822],\n",
       "       [  36],\n",
       "       [ 518],\n",
       "       [4435],\n",
       "       [ 299],\n",
       "       [3608],\n",
       "       [6915],\n",
       "       [ 995],\n",
       "       [ 202],\n",
       "       [ 651],\n",
       "       [5461],\n",
       "       [5537],\n",
       "       [ 539],\n",
       "       [ 774],\n",
       "       [ 705],\n",
       "       [4421],\n",
       "       [ 493],\n",
       "       [ 799],\n",
       "       [2209],\n",
       "       [  61],\n",
       "       [3158],\n",
       "       [5464],\n",
       "       [4108],\n",
       "       [1421],\n",
       "       [ 292],\n",
       "       [1867],\n",
       "       [2374],\n",
       "       [1230],\n",
       "       [ 177],\n",
       "       [3519],\n",
       "       [ 221],\n",
       "       [1580],\n",
       "       [2255],\n",
       "       [1831],\n",
       "       [4687],\n",
       "       [4383],\n",
       "       [4037],\n",
       "       [ 546],\n",
       "       [4550],\n",
       "       [4340],\n",
       "       [1231],\n",
       "       [3575],\n",
       "       [6041],\n",
       "       [ 181],\n",
       "       [2909],\n",
       "       [ 753],\n",
       "       [4545],\n",
       "       [6500],\n",
       "       [1258],\n",
       "       [1696],\n",
       "       [4732],\n",
       "       [ 614]], dtype=int64)"
      ]
     },
     "execution_count": 27,
     "metadata": {},
     "output_type": "execute_result"
    }
   ],
   "source": [
    "X_train"
   ]
  },
  {
   "cell_type": "code",
   "execution_count": 28,
   "metadata": {},
   "outputs": [
    {
     "data": {
      "text/plain": [
       "58    131\n",
       "15     86\n",
       "86      1\n",
       "80     16\n",
       "26    141\n",
       "87     10\n",
       "55    116\n",
       "4     223\n",
       "52     32\n",
       "21      6\n",
       "78     21\n",
       "3     174\n",
       "81    180\n",
       "30     17\n",
       "56     23\n",
       "42     22\n",
       "47    146\n",
       "51     17\n",
       "66     25\n",
       "24     72\n",
       "8       1\n",
       "17     99\n",
       "0     181\n",
       "82    138\n",
       "57     44\n",
       "22      9\n",
       "61     60\n",
       "63     76\n",
       "7      38\n",
       "85      5\n",
       "13    113\n",
       "74      7\n",
       "14     49\n",
       "29     72\n",
       "28     57\n",
       "11    152\n",
       "18    143\n",
       "20    129\n",
       "50     16\n",
       "25    150\n",
       "6     140\n",
       "71     39\n",
       "76    116\n",
       "1     197\n",
       "16      6\n",
       "64     93\n",
       "79     28\n",
       "5     149\n",
       "75    213\n",
       "9      40\n",
       "72     55\n",
       "12    150\n",
       "37     19\n",
       "Name: caloriesburned, dtype: int64"
      ]
     },
     "execution_count": 28,
     "metadata": {},
     "output_type": "execute_result"
    }
   ],
   "source": [
    "y_train"
   ]
  },
  {
   "cell_type": "code",
   "execution_count": 29,
   "metadata": {},
   "outputs": [],
   "source": [
    "#traning and testing the model"
   ]
  },
  {
   "cell_type": "code",
   "execution_count": 30,
   "metadata": {},
   "outputs": [],
   "source": [
    "from sklearn import linear_model as lm\n",
    "model=lm.LinearRegression()\n",
    "results=model.fit(X_train,y_train) "
   ]
  },
  {
   "cell_type": "code",
   "execution_count": 31,
   "metadata": {},
   "outputs": [
    {
     "name": "stdout",
     "output_type": "stream",
     "text": [
      "Accuracy of the model: 0.9992075124080033\n"
     ]
    }
   ],
   "source": [
    "accuracy = model.score(X_train, y_train)\n",
    "print('Accuracy of the model:', accuracy)"
   ]
  },
  {
   "cell_type": "code",
   "execution_count": 32,
   "metadata": {},
   "outputs": [
    {
     "name": "stdout",
     "output_type": "stream",
     "text": [
      "intercept: -0.8533961907337755\n",
      "slope: [0.03258063]\n"
     ]
    }
   ],
   "source": [
    "print('intercept:', model.intercept_)\n",
    "print('slope:', model.coef_)"
   ]
  },
  {
   "cell_type": "code",
   "execution_count": 33,
   "metadata": {},
   "outputs": [
    {
     "data": {
      "text/plain": [
       "LinearRegression(copy_X=True, fit_intercept=True, n_jobs=None, normalize=False)"
      ]
     },
     "execution_count": 33,
     "metadata": {},
     "output_type": "execute_result"
    }
   ],
   "source": [
    "model"
   ]
  },
  {
   "cell_type": "code",
   "execution_count": 34,
   "metadata": {},
   "outputs": [
    {
     "data": {
      "text/plain": [
       "60    5934\n",
       "70     437\n",
       "53    1163\n",
       "54    6676\n",
       "77    4061\n",
       "73    4921\n",
       "59    2725\n",
       "41    4136\n",
       "45    4275\n",
       "38    3149\n",
       "39    4005\n",
       "31    5464\n",
       "68    3941\n",
       "27    4779\n",
       "88    1447\n",
       "49    5195\n",
       "10    3148\n",
       "2       25\n",
       "36    6314\n",
       "69    7422\n",
       "46    5999\n",
       "19    3881\n",
       "83    5376\n",
       "35    4033\n",
       "33    4068\n",
       "32    6041\n",
       "44     269\n",
       "65    1648\n",
       "62    3721\n",
       "67    7102\n",
       "34    4683\n",
       "40    4880\n",
       "48    6930\n",
       "23     330\n",
       "84    3066\n",
       "43     570\n",
       "Name: stepcount, dtype: int64"
      ]
     },
     "execution_count": 34,
     "metadata": {},
     "output_type": "execute_result"
    }
   ],
   "source": [
    "X_test"
   ]
  },
  {
   "cell_type": "code",
   "execution_count": 35,
   "metadata": {},
   "outputs": [],
   "source": [
    "X_test = X_test.values.reshape((-1,1))"
   ]
  },
  {
   "cell_type": "code",
   "execution_count": 36,
   "metadata": {},
   "outputs": [
    {
     "name": "stdout",
     "output_type": "stream",
     "text": [
      "predicted caloriesburned:\n",
      "[ 1.92480065e+02  1.33843393e+01  3.70378770e+01  2.16654893e+02\n",
      "  1.31456544e+02  1.59475886e+02  8.79288218e+01  1.33900091e+02\n",
      "  1.38428799e+02  1.01743009e+02  1.29632029e+02  1.77167169e+02\n",
      "  1.27546868e+02  1.54849437e+02  4.62907761e+01  1.68402979e+02\n",
      "  1.01710428e+02 -3.88804297e-02  2.04860704e+02  2.40960043e+02\n",
      "  1.94597806e+02  1.25592031e+02  1.74300073e+02  1.30544286e+02\n",
      "  1.31684608e+02  1.95966192e+02  7.91079340e+00  5.28394828e+01\n",
      "  1.20379130e+02  2.30534241e+02  1.51721696e+02  1.58140080e+02\n",
      "  2.24930373e+02  9.89821186e+00  9.90388167e+01  1.77175632e+01]\n"
     ]
    }
   ],
   "source": [
    "predictions = model.predict(X_test)\n",
    "print('predicted caloriesburned:',predictions, sep = '\\n')"
   ]
  },
  {
   "cell_type": "code",
   "execution_count": 37,
   "metadata": {},
   "outputs": [
    {
     "data": {
      "text/plain": [
       "60    194\n",
       "70     14\n",
       "53     35\n",
       "54    220\n",
       "77    129\n",
       "73    158\n",
       "59     86\n",
       "41    137\n",
       "45    145\n",
       "38    101\n",
       "39    139\n",
       "31    181\n",
       "68    125\n",
       "27    156\n",
       "88     47\n",
       "49    167\n",
       "10    101\n",
       "2       0\n",
       "36    193\n",
       "69    243\n",
       "46    192\n",
       "19    125\n",
       "83    176\n",
       "35    137\n",
       "33    131\n",
       "32    197\n",
       "44      9\n",
       "65     53\n",
       "62    121\n",
       "67    227\n",
       "34    154\n",
       "40    164\n",
       "48    234\n",
       "23     10\n",
       "84     99\n",
       "43     17\n",
       "Name: caloriesburned, dtype: int64"
      ]
     },
     "execution_count": 37,
     "metadata": {},
     "output_type": "execute_result"
    }
   ],
   "source": [
    "y_test"
   ]
  },
  {
   "cell_type": "code",
   "execution_count": 38,
   "metadata": {},
   "outputs": [
    {
     "data": {
      "text/plain": [
       "<matplotlib.collections.PathCollection at 0xb9cc548>"
      ]
     },
     "execution_count": 38,
     "metadata": {},
     "output_type": "execute_result"
    },
    {
     "data": {
      "image/png": "[encoded data removed]",
      "text/plain": [
       "<Figure size 432x288 with 1 Axes>"
      ]
     },
     "metadata": {
      "needs_background": "light"
     },
     "output_type": "display_data"
    }
   ],
   "source": [
    "import matplotlib.pyplot as plt\n",
    "%matplotlib inline\n",
    "plt.scatter(y_test, predictions)"
   ]
  },
  {
   "cell_type": "code",
   "execution_count": 39,
   "metadata": {},
   "outputs": [
    {
     "name": "stdout",
     "output_type": "stream",
     "text": [
      "predicted response:\n",
      "[[ 1.92480065e+02]\n",
      " [ 1.33843393e+01]\n",
      " [ 3.70378770e+01]\n",
      " [ 2.16654893e+02]\n",
      " [ 1.31456544e+02]\n",
      " [ 1.59475886e+02]\n",
      " [ 8.79288218e+01]\n",
      " [ 1.33900091e+02]\n",
      " [ 1.38428799e+02]\n",
      " [ 1.01743009e+02]\n",
      " [ 1.29632029e+02]\n",
      " [ 1.77167169e+02]\n",
      " [ 1.27546868e+02]\n",
      " [ 1.54849437e+02]\n",
      " [ 4.62907761e+01]\n",
      " [ 1.68402979e+02]\n",
      " [ 1.01710428e+02]\n",
      " [-3.88804297e-02]\n",
      " [ 2.04860704e+02]\n",
      " [ 2.40960043e+02]\n",
      " [ 1.94597806e+02]\n",
      " [ 1.25592031e+02]\n",
      " [ 1.74300073e+02]\n",
      " [ 1.30544286e+02]\n",
      " [ 1.31684608e+02]\n",
      " [ 1.95966192e+02]\n",
      " [ 7.91079340e+00]\n",
      " [ 5.28394828e+01]\n",
      " [ 1.20379130e+02]\n",
      " [ 2.30534241e+02]\n",
      " [ 1.51721696e+02]\n",
      " [ 1.58140080e+02]\n",
      " [ 2.24930373e+02]\n",
      " [ 9.89821186e+00]\n",
      " [ 9.90388167e+01]\n",
      " [ 1.77175632e+01]]\n"
     ]
    }
   ],
   "source": [
    "y_pred = model.intercept_ + model.coef_ * X_test\n",
    "print('predicted response:', y_pred, sep='\\n')"
   ]
  }
 ],
 "metadata": {
  "kernelspec": {
   "display_name": "Python 3",
   "language": "python",
   "name": "python3"
  },
  "language_info": {
   "codemirror_mode": {
    "name": "ipython",
    "version": 3
   },
   "file_extension": ".py",
   "mimetype": "text/x-python",
   "name": "python",
   "nbconvert_exporter": "python",
   "pygments_lexer": "ipython3",
   "version": "3.7.6"
  }
 },
 "nbformat": 4,
 "nbformat_minor": 4
}
