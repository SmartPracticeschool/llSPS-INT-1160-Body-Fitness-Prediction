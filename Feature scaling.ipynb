{
 "cells": [
  {
   "cell_type": "code",
   "execution_count": 50,
   "metadata": {},
   "outputs": [
    {
     "data": {
      "text/plain": [
       "'C:\\\\Users\\\\Tarak\\\\Desktop\\\\remote intern\\\\datasets'"
      ]
     },
     "execution_count": 50,
     "metadata": {},
     "output_type": "execute_result"
    }
   ],
   "source": [
    "import os\n",
    "os.getcwd()"
   ]
  },
  {
   "cell_type": "code",
   "execution_count": 51,
   "metadata": {},
   "outputs": [],
   "source": [
    "os.chdir('C:/Users/Tarak/Desktop/remote intern/datasets')"
   ]
  },
  {
   "cell_type": "code",
   "execution_count": 52,
   "metadata": {},
   "outputs": [],
   "source": [
    "import numpy as np\n",
    "import pandas as pd\n",
    "import matplotlib.pyplot as plt\n",
    "from sklearn import preprocessing\n",
    "%matplotlib inline"
   ]
  },
  {
   "cell_type": "code",
   "execution_count": 53,
   "metadata": {},
   "outputs": [],
   "source": [
    "data1 = pd.read_csv('bodyfitness.csv')"
   ]
  },
  {
   "cell_type": "code",
   "execution_count": 54,
   "metadata": {
    "scrolled": true
   },
   "outputs": [
    {
     "data": {
      "text/html": [
       "<div>\n",
       "<style scoped>\n",
       "    .dataframe tbody tr th:only-of-type {\n",
       "        vertical-align: middle;\n",
       "    }\n",
       "\n",
       "    .dataframe tbody tr th {\n",
       "        vertical-align: top;\n",
       "    }\n",
       "\n",
       "    .dataframe thead th {\n",
       "        text-align: right;\n",
       "    }\n",
       "</style>\n",
       "<table border=\"1\" class=\"dataframe\">\n",
       "  <thead>\n",
       "    <tr style=\"text-align: right;\">\n",
       "      <th></th>\n",
       "      <th>date</th>\n",
       "      <th>stepcount</th>\n",
       "      <th>caloriesburned</th>\n",
       "      <th>hoursofsleep</th>\n",
       "      <th>weight_kg</th>\n",
       "    </tr>\n",
       "  </thead>\n",
       "  <tbody>\n",
       "    <tr>\n",
       "      <th>0</th>\n",
       "      <td>10/6/2019</td>\n",
       "      <td>5464</td>\n",
       "      <td>181</td>\n",
       "      <td>5</td>\n",
       "      <td>66</td>\n",
       "    </tr>\n",
       "    <tr>\n",
       "      <th>1</th>\n",
       "      <td>10/7/2019</td>\n",
       "      <td>6041</td>\n",
       "      <td>197</td>\n",
       "      <td>8</td>\n",
       "      <td>66</td>\n",
       "    </tr>\n",
       "    <tr>\n",
       "      <th>2</th>\n",
       "      <td>10/8/2019</td>\n",
       "      <td>25</td>\n",
       "      <td>0</td>\n",
       "      <td>5</td>\n",
       "      <td>66</td>\n",
       "    </tr>\n",
       "    <tr>\n",
       "      <th>3</th>\n",
       "      <td>10/9/2019</td>\n",
       "      <td>5461</td>\n",
       "      <td>174</td>\n",
       "      <td>4</td>\n",
       "      <td>66</td>\n",
       "    </tr>\n",
       "    <tr>\n",
       "      <th>4</th>\n",
       "      <td>10/10/2019</td>\n",
       "      <td>6915</td>\n",
       "      <td>223</td>\n",
       "      <td>5</td>\n",
       "      <td>66</td>\n",
       "    </tr>\n",
       "    <tr>\n",
       "      <th>...</th>\n",
       "      <td>...</td>\n",
       "      <td>...</td>\n",
       "      <td>...</td>\n",
       "      <td>...</td>\n",
       "      <td>...</td>\n",
       "    </tr>\n",
       "    <tr>\n",
       "      <th>84</th>\n",
       "      <td>12/29/2019</td>\n",
       "      <td>3066</td>\n",
       "      <td>99</td>\n",
       "      <td>4</td>\n",
       "      <td>64</td>\n",
       "    </tr>\n",
       "    <tr>\n",
       "      <th>85</th>\n",
       "      <td>12/30/2019</td>\n",
       "      <td>177</td>\n",
       "      <td>5</td>\n",
       "      <td>5</td>\n",
       "      <td>64</td>\n",
       "    </tr>\n",
       "    <tr>\n",
       "      <th>86</th>\n",
       "      <td>12/31/2019</td>\n",
       "      <td>36</td>\n",
       "      <td>1</td>\n",
       "      <td>3</td>\n",
       "      <td>64</td>\n",
       "    </tr>\n",
       "    <tr>\n",
       "      <th>87</th>\n",
       "      <td>1/1/2020</td>\n",
       "      <td>299</td>\n",
       "      <td>10</td>\n",
       "      <td>3</td>\n",
       "      <td>64</td>\n",
       "    </tr>\n",
       "    <tr>\n",
       "      <th>88</th>\n",
       "      <td>1/2/2020</td>\n",
       "      <td>1447</td>\n",
       "      <td>47</td>\n",
       "      <td>3</td>\n",
       "      <td>64</td>\n",
       "    </tr>\n",
       "  </tbody>\n",
       "</table>\n",
       "<p>89 rows × 5 columns</p>\n",
       "</div>"
      ],
      "text/plain": [
       "          date  stepcount  caloriesburned  hoursofsleep  weight_kg\n",
       "0    10/6/2019       5464             181             5         66\n",
       "1    10/7/2019       6041             197             8         66\n",
       "2    10/8/2019         25               0             5         66\n",
       "3    10/9/2019       5461             174             4         66\n",
       "4   10/10/2019       6915             223             5         66\n",
       "..         ...        ...             ...           ...        ...\n",
       "84  12/29/2019       3066              99             4         64\n",
       "85  12/30/2019        177               5             5         64\n",
       "86  12/31/2019         36               1             3         64\n",
       "87    1/1/2020        299              10             3         64\n",
       "88    1/2/2020       1447              47             3         64\n",
       "\n",
       "[89 rows x 5 columns]"
      ]
     },
     "execution_count": 54,
     "metadata": {},
     "output_type": "execute_result"
    }
   ],
   "source": [
    "data1"
   ]
  },
  {
   "cell_type": "code",
   "execution_count": 55,
   "metadata": {},
   "outputs": [],
   "source": [
    "#Feature scaling techniqes"
   ]
  },
  {
   "cell_type": "code",
   "execution_count": 56,
   "metadata": {},
   "outputs": [
    {
     "data": {
      "text/html": [
       "<div>\n",
       "<style scoped>\n",
       "    .dataframe tbody tr th:only-of-type {\n",
       "        vertical-align: middle;\n",
       "    }\n",
       "\n",
       "    .dataframe tbody tr th {\n",
       "        vertical-align: top;\n",
       "    }\n",
       "\n",
       "    .dataframe thead th {\n",
       "        text-align: right;\n",
       "    }\n",
       "</style>\n",
       "<table border=\"1\" class=\"dataframe\">\n",
       "  <thead>\n",
       "    <tr style=\"text-align: right;\">\n",
       "      <th></th>\n",
       "      <th>date</th>\n",
       "      <th>stepcount</th>\n",
       "      <th>caloriesburned</th>\n",
       "      <th>hoursofsleep</th>\n",
       "      <th>weight_kg</th>\n",
       "    </tr>\n",
       "  </thead>\n",
       "  <tbody>\n",
       "    <tr>\n",
       "      <th>0</th>\n",
       "      <td>10/6/2019</td>\n",
       "      <td>5464</td>\n",
       "      <td>181</td>\n",
       "      <td>5</td>\n",
       "      <td>66</td>\n",
       "    </tr>\n",
       "    <tr>\n",
       "      <th>1</th>\n",
       "      <td>10/7/2019</td>\n",
       "      <td>6041</td>\n",
       "      <td>197</td>\n",
       "      <td>8</td>\n",
       "      <td>66</td>\n",
       "    </tr>\n",
       "    <tr>\n",
       "      <th>2</th>\n",
       "      <td>10/8/2019</td>\n",
       "      <td>25</td>\n",
       "      <td>0</td>\n",
       "      <td>5</td>\n",
       "      <td>66</td>\n",
       "    </tr>\n",
       "    <tr>\n",
       "      <th>3</th>\n",
       "      <td>10/9/2019</td>\n",
       "      <td>5461</td>\n",
       "      <td>174</td>\n",
       "      <td>4</td>\n",
       "      <td>66</td>\n",
       "    </tr>\n",
       "    <tr>\n",
       "      <th>4</th>\n",
       "      <td>10/10/2019</td>\n",
       "      <td>6915</td>\n",
       "      <td>223</td>\n",
       "      <td>5</td>\n",
       "      <td>66</td>\n",
       "    </tr>\n",
       "  </tbody>\n",
       "</table>\n",
       "</div>"
      ],
      "text/plain": [
       "         date  stepcount  caloriesburned  hoursofsleep  weight_kg\n",
       "0   10/6/2019       5464             181             5         66\n",
       "1   10/7/2019       6041             197             8         66\n",
       "2   10/8/2019         25               0             5         66\n",
       "3   10/9/2019       5461             174             4         66\n",
       "4  10/10/2019       6915             223             5         66"
      ]
     },
     "execution_count": 56,
     "metadata": {},
     "output_type": "execute_result"
    }
   ],
   "source": [
    "data1[:5]"
   ]
  },
  {
   "cell_type": "code",
   "execution_count": 57,
   "metadata": {},
   "outputs": [],
   "source": [
    "#Feature Selection for Model\n",
    "#Consider 2 features (Annual Income and Spending Score)\n",
    "X= data1.iloc[:, [3,4]].values"
   ]
  },
  {
   "cell_type": "code",
   "execution_count": 58,
   "metadata": {
    "scrolled": true
   },
   "outputs": [
    {
     "data": {
      "text/plain": [
       "array([[ 5, 66],\n",
       "       [ 8, 66],\n",
       "       [ 5, 66],\n",
       "       [ 4, 66],\n",
       "       [ 5, 66],\n",
       "       [ 6, 66],\n",
       "       [ 6, 66],\n",
       "       [ 7, 66],\n",
       "       [ 5, 66],\n",
       "       [ 6, 65],\n",
       "       [ 8, 65],\n",
       "       [ 5, 65],\n",
       "       [ 6, 65],\n",
       "       [ 7, 65],\n",
       "       [ 5, 65],\n",
       "       [ 6, 65],\n",
       "       [ 8, 65],\n",
       "       [ 5, 65],\n",
       "       [ 4, 64],\n",
       "       [ 5, 64],\n",
       "       [ 6, 64],\n",
       "       [ 8, 64],\n",
       "       [ 5, 64],\n",
       "       [ 6, 64],\n",
       "       [ 5, 64],\n",
       "       [ 8, 64],\n",
       "       [ 5, 64],\n",
       "       [ 4, 64],\n",
       "       [ 5, 64],\n",
       "       [ 4, 64],\n",
       "       [ 5, 64],\n",
       "       [ 4, 64],\n",
       "       [ 3, 64],\n",
       "       [ 2, 64],\n",
       "       [ 9, 64],\n",
       "       [ 5, 64],\n",
       "       [ 6, 64],\n",
       "       [ 4, 64],\n",
       "       [ 5, 64],\n",
       "       [ 8, 64],\n",
       "       [ 4, 64],\n",
       "       [ 5, 64],\n",
       "       [ 6, 64],\n",
       "       [ 5, 64],\n",
       "       [ 6, 64],\n",
       "       [ 5, 64],\n",
       "       [ 6, 64],\n",
       "       [ 5, 64],\n",
       "       [ 6, 64],\n",
       "       [ 5, 64],\n",
       "       [ 6, 64],\n",
       "       [ 7, 64],\n",
       "       [ 6, 64],\n",
       "       [ 7, 64],\n",
       "       [ 6, 64],\n",
       "       [ 5, 64],\n",
       "       [ 6, 64],\n",
       "       [ 7, 64],\n",
       "       [ 8, 64],\n",
       "       [ 8, 64],\n",
       "       [ 7, 64],\n",
       "       [ 8, 64],\n",
       "       [ 5, 64],\n",
       "       [ 4, 64],\n",
       "       [ 3, 64],\n",
       "       [ 3, 64],\n",
       "       [ 4, 64],\n",
       "       [ 5, 64],\n",
       "       [ 5, 64],\n",
       "       [ 5, 64],\n",
       "       [ 3, 64],\n",
       "       [ 4, 64],\n",
       "       [ 4, 64],\n",
       "       [ 5, 64],\n",
       "       [ 5, 64],\n",
       "       [ 5, 64],\n",
       "       [ 5, 64],\n",
       "       [ 5, 64],\n",
       "       [ 5, 64],\n",
       "       [ 4, 64],\n",
       "       [ 3, 64],\n",
       "       [ 4, 64],\n",
       "       [ 5, 64],\n",
       "       [ 5, 64],\n",
       "       [ 4, 64],\n",
       "       [ 5, 64],\n",
       "       [ 3, 64],\n",
       "       [ 3, 64],\n",
       "       [ 3, 64]], dtype=int64)"
      ]
     },
     "execution_count": 58,
     "metadata": {},
     "output_type": "execute_result"
    }
   ],
   "source": [
    "X"
   ]
  },
  {
   "cell_type": "code",
   "execution_count": 59,
   "metadata": {},
   "outputs": [],
   "source": [
    "Y = data1.iloc[:, 2].values"
   ]
  },
  {
   "cell_type": "code",
   "execution_count": 60,
   "metadata": {},
   "outputs": [
    {
     "data": {
      "text/plain": [
       "array([181, 197,   0, 174, 223, 149, 140,  38,   1,  40, 101, 152, 150,\n",
       "       113,  49,  86,   6,  99, 143, 125, 129,   6,   9,  10,  72, 150,\n",
       "       141, 156,  57,  72,  17, 181, 197, 131, 154, 137, 193,  19, 101,\n",
       "       139, 164, 137,  22,  17,   9, 145, 192, 146, 234, 167,  16,  17,\n",
       "        32,  35, 220, 116,  23,  44, 131,  86, 194,  60, 121,  76,  93,\n",
       "        53,  25, 227, 125, 243,  14,  39,  55, 158,   7, 213, 116, 129,\n",
       "        21,  28,  16, 180, 138, 176,  99,   5,   1,  10,  47], dtype=int64)"
      ]
     },
     "execution_count": 60,
     "metadata": {},
     "output_type": "execute_result"
    }
   ],
   "source": [
    "Y"
   ]
  },
  {
   "cell_type": "code",
   "execution_count": 61,
   "metadata": {},
   "outputs": [],
   "source": [
    "#Build the K Means cluster model\n",
    "from sklearn.cluster import KMeans\n",
    "wcss=[]\n",
    "#Static code to get max no of clusters using inertia to seggregate the data\n",
    "#points into clusters\n",
    "\n",
    "for i in range(1,11):\n",
    "    kmeans = KMeans(n_clusters= i, init='k-means++', random_state=0)\n",
    "    kmeans.fit(X)\n",
    "    wcss.append(kmeans.inertia_)\n",
    "    \n",
    "    "
   ]
  },
  {
   "cell_type": "code",
   "execution_count": 65,
   "metadata": {
    "scrolled": false
   },
   "outputs": [
    {
     "data": {
      "image/png": "[encoded data removed]",
      "text/plain": [
       "<Figure size 432x288 with 1 Axes>"
      ]
     },
     "metadata": {
      "needs_background": "light"
     },
     "output_type": "display_data"
    }
   ],
   "source": [
    "#Visualizing \n",
    "plt.plot(range(1,11), wcss)\n",
    "plt.show()"
   ]
  },
  {
   "cell_type": "code",
   "execution_count": 63,
   "metadata": {},
   "outputs": [
    {
     "data": {
      "text/plain": [
       "array([[0.42857143, 1.        ],\n",
       "       [0.85714286, 1.        ],\n",
       "       [0.42857143, 1.        ],\n",
       "       [0.28571429, 1.        ],\n",
       "       [0.42857143, 1.        ],\n",
       "       [0.57142857, 1.        ],\n",
       "       [0.57142857, 1.        ],\n",
       "       [0.71428571, 1.        ],\n",
       "       [0.42857143, 1.        ],\n",
       "       [0.57142857, 0.5       ],\n",
       "       [0.85714286, 0.5       ],\n",
       "       [0.42857143, 0.5       ],\n",
       "       [0.57142857, 0.5       ],\n",
       "       [0.71428571, 0.5       ],\n",
       "       [0.42857143, 0.5       ],\n",
       "       [0.57142857, 0.5       ],\n",
       "       [0.85714286, 0.5       ],\n",
       "       [0.42857143, 0.5       ],\n",
       "       [0.28571429, 0.        ],\n",
       "       [0.42857143, 0.        ],\n",
       "       [0.57142857, 0.        ],\n",
       "       [0.85714286, 0.        ],\n",
       "       [0.42857143, 0.        ],\n",
       "       [0.57142857, 0.        ],\n",
       "       [0.42857143, 0.        ],\n",
       "       [0.85714286, 0.        ],\n",
       "       [0.42857143, 0.        ],\n",
       "       [0.28571429, 0.        ],\n",
       "       [0.42857143, 0.        ],\n",
       "       [0.28571429, 0.        ],\n",
       "       [0.42857143, 0.        ],\n",
       "       [0.28571429, 0.        ],\n",
       "       [0.14285714, 0.        ],\n",
       "       [0.        , 0.        ],\n",
       "       [1.        , 0.        ],\n",
       "       [0.42857143, 0.        ],\n",
       "       [0.57142857, 0.        ],\n",
       "       [0.28571429, 0.        ],\n",
       "       [0.42857143, 0.        ],\n",
       "       [0.85714286, 0.        ],\n",
       "       [0.28571429, 0.        ],\n",
       "       [0.42857143, 0.        ],\n",
       "       [0.57142857, 0.        ],\n",
       "       [0.42857143, 0.        ],\n",
       "       [0.57142857, 0.        ],\n",
       "       [0.42857143, 0.        ],\n",
       "       [0.57142857, 0.        ],\n",
       "       [0.42857143, 0.        ],\n",
       "       [0.57142857, 0.        ],\n",
       "       [0.42857143, 0.        ],\n",
       "       [0.57142857, 0.        ],\n",
       "       [0.71428571, 0.        ],\n",
       "       [0.57142857, 0.        ],\n",
       "       [0.71428571, 0.        ],\n",
       "       [0.57142857, 0.        ],\n",
       "       [0.42857143, 0.        ],\n",
       "       [0.57142857, 0.        ],\n",
       "       [0.71428571, 0.        ],\n",
       "       [0.85714286, 0.        ],\n",
       "       [0.85714286, 0.        ],\n",
       "       [0.71428571, 0.        ],\n",
       "       [0.85714286, 0.        ],\n",
       "       [0.42857143, 0.        ],\n",
       "       [0.28571429, 0.        ],\n",
       "       [0.14285714, 0.        ],\n",
       "       [0.14285714, 0.        ],\n",
       "       [0.28571429, 0.        ],\n",
       "       [0.42857143, 0.        ],\n",
       "       [0.42857143, 0.        ],\n",
       "       [0.42857143, 0.        ],\n",
       "       [0.14285714, 0.        ],\n",
       "       [0.28571429, 0.        ],\n",
       "       [0.28571429, 0.        ],\n",
       "       [0.42857143, 0.        ],\n",
       "       [0.42857143, 0.        ],\n",
       "       [0.42857143, 0.        ],\n",
       "       [0.42857143, 0.        ],\n",
       "       [0.42857143, 0.        ],\n",
       "       [0.42857143, 0.        ],\n",
       "       [0.28571429, 0.        ],\n",
       "       [0.14285714, 0.        ],\n",
       "       [0.28571429, 0.        ],\n",
       "       [0.42857143, 0.        ],\n",
       "       [0.42857143, 0.        ],\n",
       "       [0.28571429, 0.        ],\n",
       "       [0.42857143, 0.        ],\n",
       "       [0.14285714, 0.        ],\n",
       "       [0.14285714, 0.        ],\n",
       "       [0.14285714, 0.        ]])"
      ]
     },
     "execution_count": 63,
     "metadata": {},
     "output_type": "execute_result"
    }
   ],
   "source": [
    "#Apply normalization to rescale the features to a standard range of values.\n",
    "#Normalize \n",
    "minmax=preprocessing.MinMaxScaler(feature_range=(0,1))\n",
    "minmax.fit(X).transform(X)"
   ]
  },
  {
   "cell_type": "code",
   "execution_count": 75,
   "metadata": {
    "scrolled": true
   },
   "outputs": [
    {
     "data": {
      "image/png": "[encoded data removed]",
      "text/plain": [
       "<Figure size 432x288 with 2 Axes>"
      ]
     },
     "metadata": {
      "needs_background": "light"
     },
     "output_type": "display_data"
    },
    {
     "data": {
      "image/png": "[encoded data removed]",
      "text/plain": [
       "<Figure size 432x288 with 1 Axes>"
      ]
     },
     "metadata": {
      "needs_background": "light"
     },
     "output_type": "display_data"
    }
   ],
   "source": [
    "#regression predictive modelling\n",
    "from sklearn.datasets import make_regression\n",
    "from matplotlib import pyplot\n",
    "pyplot.subplot(211)\n",
    "pyplot.hist(X[:,0])\n",
    "pyplot.subplot(212)\n",
    "pyplot.hist(X[:,1])\n",
    "pyplot.show()\n",
    "pyplot.hist(y)\n",
    "pyplot.show()"
   ]
  },
  {
   "cell_type": "code",
   "execution_count": 83,
   "metadata": {},
   "outputs": [
    {
     "data": {
      "image/png": "[encoded data removed]",
      "text/plain": [
       "<Figure size 432x288 with 1 Axes>"
      ]
     },
     "metadata": {
      "needs_background": "light"
     },
     "output_type": "display_data"
    }
   ],
   "source": [
    "plt.xlabel(\"weight_kg\")\n",
    "plt.ylabel(\"stepcount\")\n",
    "plt.tight_layout()\n",
    "plt.show()"
   ]
  },
  {
   "cell_type": "code",
   "execution_count": 99,
   "metadata": {
    "scrolled": false
   },
   "outputs": [
    {
     "ename": "NameError",
     "evalue": "name 'data_std' is not defined",
     "output_type": "error",
     "traceback": [
      "\u001b[1;31m---------------------------------------------------------------------------\u001b[0m",
      "\u001b[1;31mNameError\u001b[0m                                 Traceback (most recent call last)",
      "\u001b[1;32m<ipython-input-99-4716537e63cd>\u001b[0m in \u001b[0;36m<module>\u001b[1;34m\u001b[0m\n\u001b[0;32m      1\u001b[0m \u001b[0mplt\u001b[0m\u001b[1;33m.\u001b[0m\u001b[0mfigure\u001b[0m\u001b[1;33m(\u001b[0m\u001b[0mfigsize\u001b[0m\u001b[1;33m=\u001b[0m\u001b[1;33m(\u001b[0m\u001b[1;36m6\u001b[0m\u001b[1;33m,\u001b[0m\u001b[1;36m6\u001b[0m\u001b[1;33m)\u001b[0m\u001b[1;33m)\u001b[0m\u001b[1;33m\u001b[0m\u001b[1;33m\u001b[0m\u001b[0m\n\u001b[0;32m      2\u001b[0m \u001b[0mplt\u001b[0m\u001b[1;33m.\u001b[0m\u001b[0mscatter\u001b[0m\u001b[1;33m(\u001b[0m\u001b[0mdata1\u001b[0m\u001b[1;33m[\u001b[0m\u001b[1;34m'caloriesburned'\u001b[0m\u001b[1;33m]\u001b[0m\u001b[1;33m,\u001b[0m \u001b[0mdata1\u001b[0m\u001b[1;33m[\u001b[0m\u001b[1;34m'weight_kg'\u001b[0m\u001b[1;33m]\u001b[0m\u001b[1;33m,\u001b[0m\u001b[0mcolor\u001b[0m\u001b[1;33m=\u001b[0m\u001b[1;34m'green'\u001b[0m\u001b[1;33m,\u001b[0m \u001b[0mlabel\u001b[0m\u001b[1;33m=\u001b[0m\u001b[1;34m'input scale'\u001b[0m\u001b[1;33m)\u001b[0m\u001b[1;33m\u001b[0m\u001b[1;33m\u001b[0m\u001b[0m\n\u001b[1;32m----> 3\u001b[1;33m \u001b[0mplt\u001b[0m\u001b[1;33m.\u001b[0m\u001b[0mscatter\u001b[0m\u001b[1;33m(\u001b[0m\u001b[0mdata_std\u001b[0m\u001b[1;33m[\u001b[0m\u001b[1;33m:\u001b[0m\u001b[1;33m,\u001b[0m\u001b[1;36m0\u001b[0m\u001b[1;33m]\u001b[0m\u001b[1;33m,\u001b[0m \u001b[0mdata_std\u001b[0m\u001b[1;33m[\u001b[0m\u001b[1;33m:\u001b[0m\u001b[1;33m,\u001b[0m\u001b[1;36m1\u001b[0m\u001b[1;33m]\u001b[0m\u001b[1;33m,\u001b[0m \u001b[0mcolor\u001b[0m\u001b[1;33m=\u001b[0m\u001b[1;34m'red'\u001b[0m\u001b[1;33m)\u001b[0m\u001b[1;33m\u001b[0m\u001b[1;33m\u001b[0m\u001b[0m\n\u001b[0m\u001b[0;32m      4\u001b[0m \u001b[0mplt\u001b[0m\u001b[1;33m.\u001b[0m\u001b[0mscatter\u001b[0m\u001b[1;33m(\u001b[0m\u001b[0mdata1_minmax\u001b[0m\u001b[1;33m[\u001b[0m\u001b[1;33m:\u001b[0m\u001b[1;33m,\u001b[0m\u001b[1;36m0\u001b[0m\u001b[1;33m]\u001b[0m\u001b[1;33m,\u001b[0m \u001b[0mdata1_minmax\u001b[0m\u001b[1;33m[\u001b[0m\u001b[1;33m:\u001b[0m\u001b[1;33m,\u001b[0m\u001b[1;36m1\u001b[0m\u001b[1;33m]\u001b[0m\u001b[1;33m,\u001b[0m\u001b[0mcolor\u001b[0m\u001b[1;33m=\u001b[0m\u001b[1;34m'blue'\u001b[0m\u001b[1;33m)\u001b[0m\u001b[1;33m\u001b[0m\u001b[1;33m\u001b[0m\u001b[0m\n\u001b[0;32m      5\u001b[0m \u001b[0mplt\u001b[0m\u001b[1;33m.\u001b[0m\u001b[0mtitle\u001b[0m\u001b[1;33m(\u001b[0m\u001b[1;34m'stepcount and caloriesburned dataset'\u001b[0m\u001b[1;33m)\u001b[0m\u001b[1;33m\u001b[0m\u001b[1;33m\u001b[0m\u001b[0m\n",
      "\u001b[1;31mNameError\u001b[0m: name 'data_std' is not defined"
     ]
    },
    {
     "data": {
      "image/png": "[encoded data removed]",
      "text/plain": [
       "<Figure size 432x432 with 1 Axes>"
      ]
     },
     "metadata": {
      "needs_background": "light"
     },
     "output_type": "display_data"
    }
   ],
   "source": [
    "plt.figure(figsize=(6,6))\n",
    "plt.scatter(data1['caloriesburned'], data1['weight_kg'],color='green', label='input scale')\n",
    "plt.scatter(data_std[:,0], data_std[:,1], color='red')\n",
    "plt.scatter(data1_minmax[:,0], data1_minmax[:,1],color='blue')\n",
    "plt.title('stepcount and caloriesburned dataset')\n",
    "plt.xlabel('stepcount')\n",
    "plt.ylabel('Malic Acid')\n",
    "plt.legend(loc='upper left')\n",
    "plt.grid()\n",
    "plt.tight_layout()\n",
    "plot()\n",
    "plt.show()"
   ]
  },
  {
   "cell_type": "code",
   "execution_count": null,
   "metadata": {},
   "outputs": [],
   "source": [
    "\n"
   ]
  }
 ],
 "metadata": {
  "kernelspec": {
   "display_name": "Python 3",
   "language": "python",
   "name": "python3"
  },
  "language_info": {
   "codemirror_mode": {
    "name": "ipython",
    "version": 3
   },
   "file_extension": ".py",
   "mimetype": "text/x-python",
   "name": "python",
   "nbconvert_exporter": "python",
   "pygments_lexer": "ipython3",
   "version": "3.7.6"
  }
 },
 "nbformat": 4,
 "nbformat_minor": 4
}
